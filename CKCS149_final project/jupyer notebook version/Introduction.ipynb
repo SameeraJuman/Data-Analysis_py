{
 "cells": [
  {
   "cell_type": "markdown",
   "id": "15edbad3",
   "metadata": {},
   "source": [
    "# Top Games Dataset\n",
    "### Course: CKCS149 DDY - Python Programming - P2024\n",
    "   by Sameera Juman"
   ]
  },
  {
   "cell_type": "markdown",
   "id": "11ab17d0",
   "metadata": {},
   "source": [
    "## Introduction\n",
    "The video game industry is one of the most dynamic and rapidly growing sectors of entertainment, appealing to a wide audience across the globe. This project leverages a dataset that provides detailed information on popular games, including their titles, genres, platforms, release years, and user ratings. Each entry represents an individual game, providing insight into its features and how it has been received by users. "
   ]
  },
  {
   "cell_type": "markdown",
   "id": "b46d4d5b",
   "metadata": {},
   "source": [
    "## Problem Statement\n",
    "This study will examine the following aspects:\n",
    "1. Which game genres and platforms are currently the most popular among players?\n",
    "2. How do average user ratings differ across various game genres and platforms?\n",
    "3. What are the highest-rated games, and how do their release years correlate with their ratings?\n",
    "4. What trends can be identified over time, such as average ratings per year"
   ]
  },
  {
   "cell_type": "markdown",
   "id": "cecf5052",
   "metadata": {},
   "source": [
    "After reviewing the problem statements, we can better grasp the shifting trends in the gaming industry. This will aid in making well-informed decisions and provide a clearer understanding of what makes games popular and what players find satisfying."
   ]
  },
  {
   "cell_type": "markdown",
   "id": "8f87b4af",
   "metadata": {},
   "source": [
    "[Go to Introduction](./Introduction.ipynb) "
   ]
  },
  {
   "cell_type": "markdown",
   "id": "0c9cabc8",
   "metadata": {},
   "source": [
    "[Go to Data Visualization](./Data_Visualization.ipynb)"
   ]
  },
  {
   "cell_type": "markdown",
   "id": "d843c02d",
   "metadata": {},
   "source": [
    "[Go to Findings and Conclusion](./Findings_and_Conclusion.ipynb)"
   ]
  },
  {
   "cell_type": "code",
   "execution_count": null,
   "id": "6b743dbd",
   "metadata": {},
   "outputs": [],
   "source": []
  }
 ],
 "metadata": {
  "kernelspec": {
   "display_name": "Python 3 (ipykernel)",
   "language": "python",
   "name": "python3"
  },
  "language_info": {
   "codemirror_mode": {
    "name": "ipython",
    "version": 3
   },
   "file_extension": ".py",
   "mimetype": "text/x-python",
   "name": "python",
   "nbconvert_exporter": "python",
   "pygments_lexer": "ipython3",
   "version": "3.11.7"
  }
 },
 "nbformat": 4,
 "nbformat_minor": 5
}
