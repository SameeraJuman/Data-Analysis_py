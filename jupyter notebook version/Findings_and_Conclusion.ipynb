{
 "cells": [
  {
   "cell_type": "markdown",
   "id": "ec005aed",
   "metadata": {},
   "source": [
    "## Findings\n",
    "1. **Popular Game Genres and Platforms:**\n",
    "The data shows that Sports is the most popular genre, while platforms like PC lead the market. This highlights the strong preference for competitive and strategy-based gaming experiences among players.\n",
    "\n",
    "\n"
   ]
  },
  {
   "cell_type": "markdown",
   "id": "290a7e69",
   "metadata": {},
   "source": [
    "2. **Average User Ratings by Genre and Platform:** \n",
    "Survival genres have the highest ratings, and PC platforms also rank at the top. This suggests that players appreciate the immersive and complex nature of survival games, especially on versatile platforms like PC.\n",
    "\n"
   ]
  },
  {
   "cell_type": "markdown",
   "id": "8f2de040",
   "metadata": {},
   "source": [
    "3. **Highest-Rated Games and Release Years:**\n",
    "NBA 2K21 and Minecraft are among the highest-rated games, while 2011 saw the most game releases.\n",
    "\n"
   ]
  },
  {
   "cell_type": "markdown",
   "id": "9d8e9889",
   "metadata": {},
   "source": [
    "4. **Trends Over Time: Average Ratings Per Year:**\n",
    "User satisfaction has fluctuated over the years, with peaks in 2004 and 2015, and dips in 2007 and 2018, reflecting changes in game quality and player expectations."
   ]
  },
  {
   "cell_type": "markdown",
   "id": "c8394982",
   "metadata": {},
   "source": [
    "## Conclusion\n",
    "In conclusion, the findings from this study provide valuable insights into the gaming industry, highlighting key trends in game genres, platform popularity, and user ratings over time. These insights can be leveraged by developers, marketers, and industry analysts to better understand player preferences and market dynamics."
   ]
  },
  {
   "cell_type": "markdown",
   "id": "da3a3536",
   "metadata": {},
   "source": [
    "[Go to Introduction](./Introduction.ipynb) "
   ]
  },
  {
   "cell_type": "markdown",
   "id": "df004059",
   "metadata": {},
   "source": [
    "[Go to Data Visualization](./Data_Visualization.ipynb) "
   ]
  },
  {
   "cell_type": "markdown",
   "id": "a4045f69",
   "metadata": {},
   "source": [
    "[Go to Findings and Conclusion](./Findings_and_Conclusion.ipynb)"
   ]
  },
  {
   "cell_type": "code",
   "execution_count": null,
   "id": "4926dec6",
   "metadata": {},
   "outputs": [],
   "source": []
  }
 ],
 "metadata": {
  "kernelspec": {
   "display_name": "Python 3 (ipykernel)",
   "language": "python",
   "name": "python3"
  },
  "language_info": {
   "codemirror_mode": {
    "name": "ipython",
    "version": 3
   },
   "file_extension": ".py",
   "mimetype": "text/x-python",
   "name": "python",
   "nbconvert_exporter": "python",
   "pygments_lexer": "ipython3",
   "version": "3.11.7"
  }
 },
 "nbformat": 4,
 "nbformat_minor": 5
}
